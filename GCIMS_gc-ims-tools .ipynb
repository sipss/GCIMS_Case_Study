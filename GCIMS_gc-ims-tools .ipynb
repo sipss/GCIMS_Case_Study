{
 "cells": [
  {
   "cell_type": "markdown",
   "id": "3dc8aae8",
   "metadata": {},
   "source": [
    "# GCIMS (R package) and gc-ims-tools(Python Package) Comparison for pre-processing urines sampled with GC-IMS\n"
   ]
  },
  {
   "cell_type": "markdown",
   "id": "79ffca1c",
   "metadata": {},
   "source": [
    "## IMPORT LIBRARIES"
   ]
  },
  {
   "cell_type": "code",
   "execution_count": 1,
   "id": "dd80f442",
   "metadata": {},
   "outputs": [],
   "source": [
    "import ims\n",
    "import numpy as np\n",
    "import pandas as pd\n",
    "import random as rd\n",
    "import matplotlib.pyplot as plt\n",
    "from sklearn.cross_decomposition import PLSRegression\n",
    "from sklearn import metrics\n",
    "from sklearn import decomposition\n",
    "import multiprocessing\n",
    "from joblib import Parallel, delayed"
   ]
  },
  {
   "cell_type": "markdown",
   "id": "0472a858",
   "metadata": {},
   "source": [
    "## LOAD DATASETS"
   ]
  },
  {
   "cell_type": "markdown",
   "id": "7f7e5d2c",
   "metadata": {},
   "source": [
    "First the peak table obtained with the GCIMS R package is imported along with the annotations"
   ]
  },
  {
   "cell_type": "code",
   "execution_count": 2,
   "id": "caafb0ea",
   "metadata": {},
   "outputs": [],
   "source": [
    "dataR=pd.read_csv(\"peak_table_R.csv\",index_col=0)\n",
    "#dataR.index=range(dataR.shape[0])\n",
    "annotations=pd.read_csv(\"annotations.csv\",index_col=0)\n",
    "annotations[\"Sex_b\"]=[int(b) for b in annotations[\"Sex\"]==\"Male\"]"
   ]
  },
  {
   "cell_type": "markdown",
   "id": "a9f5dfec",
   "metadata": {},
   "source": [
    "Then the raw data obtained with the GC-IMS is imported and pre-processed with the gc-ims-tools Python package"
   ]
  },
  {
   "cell_type": "code",
   "execution_count": 3,
   "id": "4924aad9",
   "metadata": {},
   "outputs": [
    {
     "data": {
      "text/plain": [
       "Dataset: Urines, 56 Spectra"
      ]
     },
     "execution_count": 3,
     "metadata": {},
     "output_type": "execute_result"
    }
   ],
   "source": [
    "ds=ims.Dataset.read_mea(\"Urines\")\n",
    "ds.binning(2).cut_dt(7, 17).cut_rt(0, 1300)\n",
    "ds.interp_riprel()\n",
    "ds.scaling()\n",
    "ds.tophat()\n",
    "X,y=ds.get_xy()\n",
    "dataP=pd.DataFrame(X)\n",
    "dataP.index=annotations.index"
   ]
  },
  {
   "cell_type": "markdown",
   "id": "e78955ec",
   "metadata": {},
   "source": [
    "## Get Predictions with optimized Latent Variables"
   ]
  },
  {
   "cell_type": "markdown",
   "id": "2bc791b2",
   "metadata": {},
   "source": [
    "Function to find the latent variables that produce the best AUC"
   ]
  },
  {
   "cell_type": "code",
   "execution_count": 5,
   "id": "52719fbf",
   "metadata": {},
   "outputs": [],
   "source": [
    "def optim(Xtrain,annotations,j):\n",
    "    predL=pd.DataFrame()\n",
    "    for k in np.unique(annotations[\"ID\"]):\n",
    "        XtrainL=Xtrain.loc[annotations[\"ID\"]!=k].values.tolist()\n",
    "        XtestL=Xtrain.loc[annotations[\"ID\"]==k].values.tolist()\n",
    "        YtrainL=annotations[annotations[\"ID\"]!=k][\"Sex_b\"].values.tolist()\n",
    "        YtestL=annotations[annotations[\"ID\"]==k][\"Sex_b\"].values.tolist()\n",
    "        plsL=PLSRegression(n_components=j, scale=True)\n",
    "        plsL.fit(XtrainL,YtrainL)\n",
    "        L=pd.DataFrame(plsL.predict(XtestL))\n",
    "        L[\"Label\"]=YtestL\n",
    "        predL=pd.concat([predL,L])\n",
    "    auc=metrics.roc_auc_score(predL['Label'],predL[0])\n",
    "    return auc"
   ]
  },
  {
   "cell_type": "markdown",
   "id": "022279f3",
   "metadata": {},
   "source": [
    "Cross Validation with optimal number of latent variables for data preprocesed with GCIMS R package (peak table)"
   ]
  },
  {
   "cell_type": "code",
   "execution_count": 6,
   "id": "aa8a463a",
   "metadata": {},
   "outputs": [],
   "source": [
    "predR=pd.DataFrame()\n",
    "lvhR=[]\n",
    "for i in np.unique(annotations[\"ID\"]):\n",
    "    Xtrain=dataR.loc[annotations[\"ID\"]!=i]\n",
    "    annotations_optim=annotations.loc[annotations[\"ID\"]!=i]\n",
    "    #Parallelization for optimizing latent variables\n",
    "    AUCL = Parallel(n_jobs=multiprocessing.cpu_count()-2)(delayed(optim)(Xtrain,annotations_optim,j) for j in range(1,7))\n",
    "    LV=AUCL.index(max(AUCL))+1\n",
    "    lvhR.append(LV)\n",
    "    Xtrain=dataR.loc[annotations[\"ID\"]!=i].values.tolist()\n",
    "    Xtest=dataR.loc[annotations[\"ID\"]==i].values.tolist()\n",
    "    Ytrain=annotations[annotations[\"ID\"]!=i][\"Sex_b\"].values.tolist()\n",
    "    Ytest=annotations[annotations[\"ID\"]==i][\"Sex_b\"].values.tolist()\n",
    "    pls=PLSRegression(n_components=LV, scale=True)\n",
    "    pls.fit(Xtrain,Ytrain)\n",
    "    A=pd.DataFrame(pls.predict(Xtest))\n",
    "    A[\"Label\"]=Ytest\n",
    "    predR=pd.concat([predR,A])   \n",
    "AUCR=metrics.roc_auc_score(predR['Label'],predR[0])"
   ]
  },
  {
   "cell_type": "markdown",
   "id": "1e3eb72d",
   "metadata": {},
   "source": [
    "Cross Validation with optimal number of latent variables for data preprocesed with gc-ims-tools for Python"
   ]
  },
  {
   "cell_type": "code",
   "execution_count": 9,
   "id": "b79514fb",
   "metadata": {},
   "outputs": [],
   "source": [
    "#This may take a while since it's working with the full matrix\n",
    "predP=pd.DataFrame()\n",
    "lvhP=[]\n",
    "for i in np.unique(annotations[\"ID\"]):\n",
    "    Xtrain=dataP.loc[annotations[\"ID\"]!=i]\n",
    "    annotations_optim=annotations.loc[annotations[\"ID\"]!=i]\n",
    "    #Parallelization for optimizing latent variables/ uncomment if your computer can handle it\n",
    "    #AUCLP = Parallel(n_jobs=multiprocessing.cpu_count()-4)(delayed(optim)(Xtrain,annotations_optim,j) for j in range(1,7)) \n",
    "    #Comment next 3 lines to use paralelization\n",
    "    AUCLP=[]\n",
    "    for j in range(1,7):\n",
    "        a=optim(Xtrain,annotations_optim,j)\n",
    "        AUCLP.append(a)\n",
    "    LV=AUCL.index(max(AUCL))+1\n",
    "    lvhP.append(LV)\n",
    "    Xtrain=dataP.loc[annotations[\"ID\"]!=i].values.tolist()\n",
    "    Xtest=dataP.loc[annotations[\"ID\"]==i].values.tolist()\n",
    "    Ytrain=annotations[annotations[\"ID\"]!=i][\"Sex_b\"].values.tolist()\n",
    "    Ytest=annotations[annotations[\"ID\"]==i][\"Sex_b\"].values.tolist()\n",
    "    pls=PLSRegression(n_components=LV, scale=True)\n",
    "    pls.fit(Xtrain,Ytrain)\n",
    "    A=pd.DataFrame(pls.predict(Xtest))\n",
    "    A[\"Label\"]=Ytest\n",
    "    predP=pd.concat([predP,A]) \n",
    "AUCP=metrics.roc_auc_score(predP['Label'],predP[0])"
   ]
  },
  {
   "cell_type": "markdown",
   "id": "845960db",
   "metadata": {},
   "source": [
    "## ROC COMPARISON"
   ]
  },
  {
   "cell_type": "markdown",
   "id": "75acf89d",
   "metadata": {},
   "source": [
    "Comparison of ROC curves obtained with both preprocessing tehcniques in the same dataset"
   ]
  },
  {
   "cell_type": "code",
   "execution_count": 13,
   "id": "790ce636",
   "metadata": {},
   "outputs": [
    {
     "data": {
      "text/plain": [
       "<matplotlib.legend.Legend at 0x24e825449a0>"
      ]
     },
     "execution_count": 13,
     "metadata": {},
     "output_type": "execute_result"
    },
    {
     "data": {
      "image/png": "[encoded data removed]",
      "text/plain": [
       "<Figure size 640x480 with 1 Axes>"
      ]
     },
     "metadata": {},
     "output_type": "display_data"
    }
   ],
   "source": [
    "fprP, tprP, tP= metrics.roc_curve(predP[\"Label\"],predP[0],drop_intermediate=False)\n",
    "fprR, tprR, tR = metrics.roc_curve(predR[\"Label\"],predR[0],drop_intermediate=False)\n",
    "plt.plot(fprP,tprP,label=\"gc-ims-tools (Python), AUC=\"+str(round(AUCP, 2)),color='r')\n",
    "plt.plot(fprR,tprR,label=\"GCIMS (R), AUC=\"+str(round(AUCR, 2)),color='b')\n",
    "plt.xlabel(\"False Positive Rate\") \n",
    "plt.ylabel(\"True Positive Rate\")\n",
    "plt.title(\"ROC Comparison\")\n",
    "plt.legend()"
   ]
  },
  {
   "cell_type": "markdown",
   "id": "dc4ed766",
   "metadata": {},
   "source": [
    "## PERMUTATION TEST"
   ]
  },
  {
   "cell_type": "code",
   "execution_count": 17,
   "id": "44ce22a6",
   "metadata": {},
   "outputs": [],
   "source": [
    "# Function to generae each model with a random test label\n",
    "def permutation(data,lvh,i):\n",
    "    Xtrain=data.loc[annotations[\"ID\"]!=i].values.tolist()\n",
    "    Xtest=data.loc[annotations[\"ID\"]==i].values.tolist()\n",
    "    Ytrain=annotations[annotations[\"ID\"]!=i][\"Sex_b\"].values.tolist()\n",
    "    groups = np.unique(Ytrain)\n",
    "    Ytest=rd.sample(groups.tolist(),1)*len(Xtest)\n",
    "    LV=lvh[np.unique(annotations[\"ID\"]).tolist().index(i)]\n",
    "    pls=PLSRegression(n_components=LV, scale=True)\n",
    "    pls.fit(Xtrain,Ytrain)\n",
    "    predPer=pd.DataFrame(pls.predict(Xtest))\n",
    "    predPer[\"Label\"]=Ytest\n",
    "    return predPer"
   ]
  },
  {
   "cell_type": "code",
   "execution_count": 18,
   "id": "0fcceecb",
   "metadata": {},
   "outputs": [
    {
     "data": {
      "image/png": "[encoded data removed]",
      "text/plain": [
       "<Figure size 640x480 with 1 Axes>"
      ]
     },
     "metadata": {},
     "output_type": "display_data"
    },
    {
     "name": "stdout",
     "output_type": "stream",
     "text": [
      "Confidence interval for the permutation test: [0.315 - 0.674]\n",
      "AUC R: 0.7356770833333333\n",
      "p-value: 0.01\n"
     ]
    }
   ],
   "source": [
    "permutR=[]\n",
    "for j in range(1000):\n",
    "    predPer = Parallel(n_jobs=multiprocessing.cpu_count())(delayed(permutation)(dataR, lvhR, i) for i in np.unique(annotations[\"ID\"]))\n",
    "    pred=pd.DataFrame()\n",
    "    for k in range(len(predPer)):\n",
    "        pred=pd.concat([pred,predPer[k]])\n",
    "    permutR.append(metrics.roc_auc_score(pred[\"Label\"],pred[0]))\n",
    "sorted_permut = np.array(permutR)\n",
    "sorted_permut.sort()\n",
    "confidence_lower = sorted_permut[int(0.05 * len(sorted_permut))]\n",
    "confidence_upper = sorted_permut[int(0.95 * len(sorted_permut))]\n",
    "plt.hist(permutR, bins=30)\n",
    "plt.title('Histogram of H0')\n",
    "plt.axvline(x=confidence_upper, ymax=0.7, color='r',linestyle=\"--\")\n",
    "plt.axvline(x=metrics.roc_auc_score(predR['Label'],predR[0]), ymax=0.8, color=\"y\",linestyle=\"--\")\n",
    "plt.ylabel(\"Frecuency\")\n",
    "plt.xlabel(\"AUC's\")\n",
    "plt.text(0.6,68,\"Quantile 0.95\")\n",
    "plt.text(0.7,76,f\"AUC= {round(metrics.roc_auc_score(predR['Label'],predR[0]),2)}\")\n",
    "plt.show()\n",
    "print(\"Confidence interval for the permutation test: [{:0.3f} - {:0.3}]\".format(confidence_lower, confidence_upper))    \n",
    "print(f\"AUC R: {metrics.roc_auc_score(predR['Label'],predR[0])}\")\n",
    "print(f\"p-value: {len(np.where(np.array(permutR)>=metrics.roc_auc_score(predR['Label'],predR[0]))[0])/1000}\")"
   ]
  },
  {
   "cell_type": "code",
   "execution_count": null,
   "id": "289e71ce",
   "metadata": {},
   "outputs": [],
   "source": []
  }
 ],
 "metadata": {
  "kernelspec": {
   "display_name": "Python 3 (ipykernel)",
   "language": "python",
   "name": "python3"
  },
  "language_info": {
   "codemirror_mode": {
    "name": "ipython",
    "version": 3
   },
   "file_extension": ".py",
   "mimetype": "text/x-python",
   "name": "python",
   "nbconvert_exporter": "python",
   "pygments_lexer": "ipython3",
   "version": "3.9.13"
  }
 },
 "nbformat": 4,
 "nbformat_minor": 5
}
