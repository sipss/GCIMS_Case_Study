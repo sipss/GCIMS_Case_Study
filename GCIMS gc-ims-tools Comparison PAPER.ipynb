{
 "cells": [
  {
   "cell_type": "markdown",
   "id": "3dc8aae8",
   "metadata": {},
   "source": [
    "# GCIMS (R package) and gc-ims-tools(Python Package) Comparison for pre-processing urines sampled with GC-IMS\n"
   ]
  },
  {
   "cell_type": "markdown",
   "id": "79ffca1c",
   "metadata": {},
   "source": [
    "## IMPORT LIBRARIES"
   ]
  },
  {
   "cell_type": "code",
   "execution_count": 2,
   "id": "dd80f442",
   "metadata": {},
   "outputs": [],
   "source": [
    "import ims\n",
    "import numpy as np\n",
    "import pandas as pd\n",
    "import random as rd\n",
    "import matplotlib.pyplot as plt\n",
    "from sklearn.cross_decomposition import PLSRegression\n",
    "from sklearn import metrics\n",
    "from sklearn import decomposition\n",
    "import multiprocessing\n",
    "from joblib import Parallel, delayed"
   ]
  },
  {
   "cell_type": "markdown",
   "id": "0472a858",
   "metadata": {},
   "source": [
    "## LOAD DATASETS"
   ]
  },
  {
   "cell_type": "markdown",
   "id": "a9f5dfec",
   "metadata": {},
   "source": [
    "The raw data obtained with the GC-IMS is imported and pre-processed with the gc-ims-tools Python package"
   ]
  },
  {
   "cell_type": "code",
   "execution_count": 3,
   "id": "fcf9aa8b",
   "metadata": {},
   "outputs": [
    {
     "ename": "ValueError",
     "evalue": "subsection not found",
     "output_type": "error",
     "traceback": [
      "\u001b[1;31m---------------------------------------------------------------------------\u001b[0m",
      "\u001b[1;31mValueError\u001b[0m                                Traceback (most recent call last)",
      "\u001b[1;32m~\\AppData\\Local\\Temp\\ipykernel_16344\\622067731.py\u001b[0m in \u001b[0;36m<module>\u001b[1;34m\u001b[0m\n\u001b[1;32m----> 1\u001b[1;33m \u001b[0mds\u001b[0m\u001b[1;33m=\u001b[0m\u001b[0mims\u001b[0m\u001b[1;33m.\u001b[0m\u001b[0mDataset\u001b[0m\u001b[1;33m.\u001b[0m\u001b[0mread_mea\u001b[0m\u001b[1;33m(\u001b[0m\u001b[1;34m\"Urines\"\u001b[0m\u001b[1;33m)\u001b[0m\u001b[1;33m\u001b[0m\u001b[1;33m\u001b[0m\u001b[0m\n\u001b[0m\u001b[0;32m      2\u001b[0m \u001b[1;31m#Preprocesing from gc-ims-tools\u001b[0m\u001b[1;33m\u001b[0m\u001b[1;33m\u001b[0m\u001b[0m\n\u001b[0;32m      3\u001b[0m \u001b[0mds\u001b[0m\u001b[1;33m.\u001b[0m\u001b[0mbinning\u001b[0m\u001b[1;33m(\u001b[0m\u001b[1;36m2\u001b[0m\u001b[1;33m)\u001b[0m\u001b[1;33m.\u001b[0m\u001b[0mcut_dt\u001b[0m\u001b[1;33m(\u001b[0m\u001b[1;36m7\u001b[0m\u001b[1;33m,\u001b[0m \u001b[1;36m17\u001b[0m\u001b[1;33m)\u001b[0m\u001b[1;33m.\u001b[0m\u001b[0mcut_rt\u001b[0m\u001b[1;33m(\u001b[0m\u001b[1;36m0\u001b[0m\u001b[1;33m,\u001b[0m \u001b[1;36m1300\u001b[0m\u001b[1;33m)\u001b[0m\u001b[1;33m\u001b[0m\u001b[1;33m\u001b[0m\u001b[0m\n\u001b[0;32m      4\u001b[0m \u001b[1;31m#ds.interp_riprel().cut_dt(1.02, 2)\u001b[0m\u001b[1;33m\u001b[0m\u001b[1;33m\u001b[0m\u001b[0m\n\u001b[0;32m      5\u001b[0m \u001b[0mds\u001b[0m\u001b[1;33m.\u001b[0m\u001b[0minterp_riprel\u001b[0m\u001b[1;33m(\u001b[0m\u001b[1;33m)\u001b[0m\u001b[1;33m\u001b[0m\u001b[1;33m\u001b[0m\u001b[0m\n",
      "\u001b[1;32m~\\Anaconda3\\lib\\site-packages\\ims\\dataset.py\u001b[0m in \u001b[0;36mread_mea\u001b[1;34m(cls, path, subfolders)\u001b[0m\n\u001b[0;32m    228\u001b[0m             \u001b[0mpath\u001b[0m\u001b[1;33m,\u001b[0m \u001b[0msubfolders\u001b[0m\u001b[1;33m\u001b[0m\u001b[1;33m\u001b[0m\u001b[0m\n\u001b[0;32m    229\u001b[0m         )\n\u001b[1;32m--> 230\u001b[1;33m         \u001b[0mdata\u001b[0m \u001b[1;33m=\u001b[0m \u001b[1;33m[\u001b[0m\u001b[0mSpectrum\u001b[0m\u001b[1;33m.\u001b[0m\u001b[0mread_mea\u001b[0m\u001b[1;33m(\u001b[0m\u001b[0mi\u001b[0m\u001b[1;33m)\u001b[0m \u001b[1;32mfor\u001b[0m \u001b[0mi\u001b[0m \u001b[1;32min\u001b[0m \u001b[0mpaths\u001b[0m\u001b[1;33m]\u001b[0m\u001b[1;33m\u001b[0m\u001b[1;33m\u001b[0m\u001b[0m\n\u001b[0m\u001b[0;32m    231\u001b[0m         \u001b[1;32mreturn\u001b[0m \u001b[0mcls\u001b[0m\u001b[1;33m(\u001b[0m\u001b[0mdata\u001b[0m\u001b[1;33m,\u001b[0m \u001b[0mname\u001b[0m\u001b[1;33m,\u001b[0m \u001b[0mfiles\u001b[0m\u001b[1;33m,\u001b[0m \u001b[0msamples\u001b[0m\u001b[1;33m,\u001b[0m \u001b[0mlabels\u001b[0m\u001b[1;33m)\u001b[0m\u001b[1;33m\u001b[0m\u001b[1;33m\u001b[0m\u001b[0m\n\u001b[0;32m    232\u001b[0m \u001b[1;33m\u001b[0m\u001b[0m\n",
      "\u001b[1;32m~\\Anaconda3\\lib\\site-packages\\ims\\dataset.py\u001b[0m in \u001b[0;36m<listcomp>\u001b[1;34m(.0)\u001b[0m\n\u001b[0;32m    228\u001b[0m             \u001b[0mpath\u001b[0m\u001b[1;33m,\u001b[0m \u001b[0msubfolders\u001b[0m\u001b[1;33m\u001b[0m\u001b[1;33m\u001b[0m\u001b[0m\n\u001b[0;32m    229\u001b[0m         )\n\u001b[1;32m--> 230\u001b[1;33m         \u001b[0mdata\u001b[0m \u001b[1;33m=\u001b[0m \u001b[1;33m[\u001b[0m\u001b[0mSpectrum\u001b[0m\u001b[1;33m.\u001b[0m\u001b[0mread_mea\u001b[0m\u001b[1;33m(\u001b[0m\u001b[0mi\u001b[0m\u001b[1;33m)\u001b[0m \u001b[1;32mfor\u001b[0m \u001b[0mi\u001b[0m \u001b[1;32min\u001b[0m \u001b[0mpaths\u001b[0m\u001b[1;33m]\u001b[0m\u001b[1;33m\u001b[0m\u001b[1;33m\u001b[0m\u001b[0m\n\u001b[0m\u001b[0;32m    231\u001b[0m         \u001b[1;32mreturn\u001b[0m \u001b[0mcls\u001b[0m\u001b[1;33m(\u001b[0m\u001b[0mdata\u001b[0m\u001b[1;33m,\u001b[0m \u001b[0mname\u001b[0m\u001b[1;33m,\u001b[0m \u001b[0mfiles\u001b[0m\u001b[1;33m,\u001b[0m \u001b[0msamples\u001b[0m\u001b[1;33m,\u001b[0m \u001b[0mlabels\u001b[0m\u001b[1;33m)\u001b[0m\u001b[1;33m\u001b[0m\u001b[1;33m\u001b[0m\u001b[0m\n\u001b[0;32m    232\u001b[0m \u001b[1;33m\u001b[0m\u001b[0m\n",
      "\u001b[1;32m~\\Anaconda3\\lib\\site-packages\\ims\\gcims.py\u001b[0m in \u001b[0;36mread_mea\u001b[1;34m(cls, path)\u001b[0m\n\u001b[0;32m    191\u001b[0m         \u001b[1;32mwith\u001b[0m \u001b[0mopen\u001b[0m\u001b[1;33m(\u001b[0m\u001b[0mpath\u001b[0m\u001b[1;33m,\u001b[0m \u001b[1;34m\"rb\"\u001b[0m\u001b[1;33m)\u001b[0m \u001b[1;32mas\u001b[0m \u001b[0mf\u001b[0m\u001b[1;33m:\u001b[0m\u001b[1;33m\u001b[0m\u001b[1;33m\u001b[0m\u001b[0m\n\u001b[0;32m    192\u001b[0m             \u001b[0mcontent\u001b[0m \u001b[1;33m=\u001b[0m \u001b[0mf\u001b[0m\u001b[1;33m.\u001b[0m\u001b[0mread\u001b[0m\u001b[1;33m(\u001b[0m\u001b[1;33m)\u001b[0m\u001b[1;33m\u001b[0m\u001b[1;33m\u001b[0m\u001b[0m\n\u001b[1;32m--> 193\u001b[1;33m             \u001b[0mi\u001b[0m \u001b[1;33m=\u001b[0m \u001b[0mcontent\u001b[0m\u001b[1;33m.\u001b[0m\u001b[0mindex\u001b[0m\u001b[1;33m(\u001b[0m\u001b[1;36m0\u001b[0m\u001b[1;33m)\u001b[0m\u001b[1;33m\u001b[0m\u001b[1;33m\u001b[0m\u001b[0m\n\u001b[0m\u001b[0;32m    194\u001b[0m             \u001b[0mmeta_attr\u001b[0m \u001b[1;33m=\u001b[0m \u001b[0mcontent\u001b[0m\u001b[1;33m[\u001b[0m\u001b[1;33m:\u001b[0m\u001b[0mi\u001b[0m\u001b[1;33m-\u001b[0m\u001b[1;36m1\u001b[0m\u001b[1;33m]\u001b[0m\u001b[1;33m\u001b[0m\u001b[1;33m\u001b[0m\u001b[0m\n\u001b[0;32m    195\u001b[0m             \u001b[0mmeta_attr\u001b[0m \u001b[1;33m=\u001b[0m \u001b[0mmeta_attr\u001b[0m\u001b[1;33m.\u001b[0m\u001b[0mdecode\u001b[0m\u001b[1;33m(\u001b[0m\u001b[1;34m\"windows-1252\"\u001b[0m\u001b[1;33m)\u001b[0m\u001b[1;33m\u001b[0m\u001b[1;33m\u001b[0m\u001b[0m\n",
      "\u001b[1;31mValueError\u001b[0m: subsection not found"
     ]
    }
   ],
   "source": [
    "ds=ims.Dataset.read_mea(\"Urines\")\n",
    "#Preprocesing from gc-ims-tools\n",
    "ds.binning(2).cut_dt(7, 17).cut_rt(0, 1300)\n",
    "#ds.interp_riprel().cut_dt(1.02, 2)\n",
    "ds.interp_riprel()\n",
    "ds.scaling()\n",
    "ds.tophat()\n",
    "ds.samples=[1,214,402,325,246,411,440,1,430,507,291,369,453,326,1,426,409,247,401,476,\n",
    "    527,1,451,353,327,231,350,312,1,339,494,514,485,1,391,274,1,453,326,291,\n",
    "    369,430,507,1,339,494,514,391,274,485,1,327,231,353,1,350,312,451,246,411,\n",
    "    440,214,402,325,1,247,401,476,426]\n",
    "ds.labels=[\"A\",\"H\",\"H\",\"D\",\"D\",\"D\",\"H\",\"A\",\"H\",\"D\",\n",
    "       \"H\",\"D\",\"H\",\"H\",\"A\",\"D\",\"D\",\"H\",\"D\",\"H\",\n",
    "       \"D\",\"A\",\"D\",\"H\",\"D\",\"H\",\"D\",\"H\",\"A\",\"H\",\n",
    "       \"H\",\"H\",\"D\",\"A\",\"H\",\"D\",\"A\",\"H\",\"H\",\"H\",\n",
    "       \"D\",\"H\",\"D\",\"A\",\"H\",\"H\",\"H\",\"H\",\"D\",\"D\",\n",
    "       \"A\",\"D\",\"H\",\"H\",\"A\",\"D\",\"H\",\"D\",\"D\",\"D\",\n",
    "       \"H\",\"H\",\"H\",\"D\",\"A\",\"H\",\"D\",\"H\",\"D\"]\n",
    "ds=ds.drop(\"A\")\n",
    "ds=ds.drop(sample=369)\n",
    "X,y=ds.get_xy()\n",
    "dataP=pd.DataFrame(X)\n",
    "dataP[\"labels\"]=y\n",
    "dataP[\"id\"]=ds.samples\n",
    "for i in range(len(dataP.index)):\n",
    "    if dataP[\"labels\"][i]==\"H\":\n",
    "        dataP.at[i,\"labels\"]=1\n",
    "    else:\n",
    "        dataP.at[i,\"labels\"]=0"
   ]
  },
  {
   "cell_type": "code",
   "execution_count": 7,
   "id": "81a4ed9f",
   "metadata": {},
   "outputs": [
    {
     "data": {
      "text/plain": [
       "'C:\\\\Users\\\\ecaballero\\\\OneDrive - IBEC\\\\Documents\\\\R\\\\GCIMS_Case_Study'"
      ]
     },
     "execution_count": 7,
     "metadata": {},
     "output_type": "execute_result"
    }
   ],
   "source": [
    "import os\n",
    "os.getcwd()"
   ]
  },
  {
   "cell_type": "code",
   "execution_count": 2,
   "id": "0ef6ff5c",
   "metadata": {},
   "outputs": [],
   "source": [
    "#mport of preprocesed data with the GCIMS package for R (peak table)\n",
    "dataR= pd.read_csv(\"peak_table_r.csv\")\n",
    "dataR=dataR.drop(columns=['Unnamed: 0'])\n",
    "samplesR=[214,402,325,246,411,440,430,507,291,453,326,426,409,247,401,476,\n",
    "    527,451,353,327,231,350,312,339,494,514,485,391,274,453,326,291,\n",
    "    430,507,339,494,514,391,274,485,327,231,353,350,312,451,246,411,\n",
    "    440,214,402,325,247,401,476,426]\n",
    "labelsR=[\"H\",\"H\",\"D\",\"D\",\"D\",\"H\",\"H\",\"D\",\n",
    "       \"D\",\"H\",\"H\",\"D\",\"D\",\"H\",\"D\",\"H\",\n",
    "       \"D\",\"D\",\"H\",\"D\",\"H\",\"D\",\"H\",\"H\",\n",
    "       \"H\",\"H\",\"D\",\"H\",\"D\",\"H\",\"H\",\n",
    "       \"D\",\"H\",\"D\",\"H\",\"H\",\"H\",\"H\",\"D\",\"D\",\n",
    "       \"D\",\"H\",\"H\",\"D\",\"H\",\"D\",\"D\",\"D\",\n",
    "       \"H\",\"H\",\"H\",\"D\",\"H\",\"D\",\"H\",\"D\"]\n",
    "dataR[\"labels\"]=labelsR\n",
    "dataR[\"id\"]=samplesR\n",
    "for i in range(len(dataR.index)):\n",
    "    if dataR[\"labels\"][i]==\"H\":\n",
    "        dataR.at[i,\"labels\"]=1\n",
    "    else:\n",
    "        dataR.at[i,\"labels\"]=0"
   ]
  },
  {
   "cell_type": "markdown",
   "id": "e78955ec",
   "metadata": {},
   "source": [
    "## Get Predictions with optimized Latent Variables"
   ]
  },
  {
   "cell_type": "code",
   "execution_count": 3,
   "id": "52719fbf",
   "metadata": {},
   "outputs": [],
   "source": [
    "#Function to find the latent variables that produce the best AUC\n",
    "def optim(Xtrain,j):\n",
    "    predL=pd.DataFrame()\n",
    "    for k in np.unique(Xtrain[\"id\"]):\n",
    "        XtrainL=Xtrain.loc[Xtrain[\"id\"]!=k].drop([\"labels\",\"id\"],axis=1).values.tolist()\n",
    "        XtestL=Xtrain.loc[Xtrain[\"id\"]==k].drop([\"labels\",\"id\"],axis=1).values.tolist()\n",
    "        YtrainL=Xtrain.loc[Xtrain[\"id\"]!=k][\"labels\"].values.tolist()\n",
    "        YtestL=Xtrain.loc[Xtrain[\"id\"]==k][\"labels\"].values.tolist()\n",
    "        plsL=PLSRegression(n_components=j, scale=True)\n",
    "        plsL.fit(XtrainL,YtrainL)\n",
    "        L=pd.DataFrame(plsL.predict(XtestL))\n",
    "        L[\"Label\"]=YtestL\n",
    "        predL=pd.concat([predL,L])\n",
    "    auc=metrics.roc_auc_score(predL['Label'],predL[0])\n",
    "    return auc"
   ]
  },
  {
   "cell_type": "code",
   "execution_count": 4,
   "id": "1f33f6bc",
   "metadata": {},
   "outputs": [],
   "source": [
    "#LOSO With optimal number of latent variables for data preprocesed with GCIMS R package (peak table)\n",
    "predR=pd.DataFrame()\n",
    "lvhR=[]\n",
    "for i in np.unique(dataR[\"id\"]):\n",
    "    Xtrain=dataR.loc[dataR[\"id\"]!=i] \n",
    "    #Parallelization for optimizing latent variables\n",
    "    AUCL = Parallel(n_jobs=multiprocessing.cpu_count()-2)(delayed(optim)(Xtrain, j) for j in range(1,7))\n",
    "    LV=AUCL.index(max(AUCL))+1\n",
    "    lvhR.append(LV)\n",
    "    Xtrain=dataR.loc[dataR[\"id\"]!=i].drop([\"labels\",\"id\"],axis=1).values.tolist()\n",
    "    Xtest=dataR.loc[dataR[\"id\"]==i].drop([\"labels\",\"id\"],axis=1).values.tolist()\n",
    "    Ytrain=dataR.loc[dataR[\"id\"]!=i][\"labels\"].values.tolist()\n",
    "    Ytest=dataR.loc[dataR[\"id\"]==i][\"labels\"].values.tolist()\n",
    "    pls=PLSRegression(n_components=LV, scale=True)\n",
    "    pls.fit(Xtrain,Ytrain)\n",
    "    A=pd.DataFrame(pls.predict(Xtest))\n",
    "    A[\"Label\"]=Ytest\n",
    "    predR=pd.concat([predR,A])   \n",
    "AUCR=metrics.roc_auc_score(predR['Label'],predR[0])"
   ]
  },
  {
   "cell_type": "code",
   "execution_count": 6,
   "id": "96ed3ca4",
   "metadata": {},
   "outputs": [],
   "source": [
    "#LOSO with optimal number of latent variables for data preprocesed with gc-ims-tools for Python\n",
    "#This may take a while since it's working with the full matrix\n",
    "predP=pd.DataFrame()\n",
    "for i in np.unique(dataP[\"id\"]):\n",
    "    Xtrain=dataP.loc[dataP[\"id\"]!=i] \n",
    "    #Parallelization for optimizing latent variables\n",
    "    AUCL = Parallel(n_jobs=multiprocessing.cpu_count()-2)(delayed(optim)(Xtrain, j) for j in range(1,7)) \n",
    "    LV=AUCL.index(max(AUCL))+1\n",
    "    Xtrain=dataP.loc[dataP[\"id\"]!=i].drop([\"labels\",\"id\"],axis=1).values.tolist()\n",
    "    Xtest=dataP.loc[dataP[\"id\"]==i].drop([\"labels\",\"id\"],axis=1).values.tolist()\n",
    "    Ytrain=dataP.loc[dataP[\"id\"]!=i][\"labels\"].values.tolist()\n",
    "    Ytest=dataP.loc[dataP[\"id\"]==i][\"labels\"].values.tolist()\n",
    "    pls=PLSRegression(n_components=LV, scale=True)\n",
    "    pls.fit(Xtrain,Ytrain)\n",
    "    A=pd.DataFrame(pls.predict(Xtest))\n",
    "    A[\"Label\"]=Ytest\n",
    "    predP=pd.concat([predP,A]) \n",
    "AUCP=metrics.roc_auc_score(predP['Label'],predP[0])"
   ]
  },
  {
   "cell_type": "markdown",
   "id": "845960db",
   "metadata": {},
   "source": [
    "## ROC COMPARISON"
   ]
  },
  {
   "cell_type": "code",
   "execution_count": 7,
   "id": "790ce636",
   "metadata": {},
   "outputs": [
    {
     "data": {
      "text/plain": [
       "<matplotlib.legend.Legend at 0x20a1eef5670>"
      ]
     },
     "execution_count": 7,
     "metadata": {},
     "output_type": "execute_result"
    },
    {
     "data": {
      "image/png": "[encoded data removed]",
      "text/plain": [
       "<Figure size 640x480 with 1 Axes>"
      ]
     },
     "metadata": {},
     "output_type": "display_data"
    }
   ],
   "source": [
    "fprP, tprP, tP= metrics.roc_curve(predP[\"Label\"],predP[0],drop_intermediate=False)\n",
    "fprR, tprR, tR = metrics.roc_curve(predR[\"Label\"],predR[0],drop_intermediate=False)\n",
    "plt.plot(fprP,tprP,label=\"gc-ims-tools (Python), AUC=\"+str(round(AUCP, 2)),color='r')\n",
    "plt.plot(fprR,tprR,label=\"GCIMS (R), AUC=\"+str(round(AUCR, 2)),color='b')\n",
    "plt.xlabel(\"False Positive Rate\") \n",
    "plt.ylabel(\"True Positive Rate\")\n",
    "plt.title(\"ROC Comparison\")\n",
    "plt.legend()"
   ]
  },
  {
   "cell_type": "markdown",
   "id": "dc4ed766",
   "metadata": {},
   "source": [
    "## PERMUTATION TEST"
   ]
  },
  {
   "cell_type": "code",
   "execution_count": 8,
   "id": "44ce22a6",
   "metadata": {},
   "outputs": [],
   "source": [
    "# Function to generae each model with a random test label\n",
    "def permutation(data,lvh,i):\n",
    "    Xtrain=data.loc[data[\"id\"]!=i].drop([\"labels\",\"id\"],axis=1).values.tolist()\n",
    "    Xtest=data.loc[data[\"id\"]==i].drop([\"labels\",\"id\"],axis=1).values.tolist()\n",
    "    Ytrain=data.loc[data[\"id\"]!=i][\"labels\"].values.tolist()\n",
    "    groups = np.unique(Ytrain)\n",
    "    Ytest=rd.sample(groups.tolist(),1)*len(Xtest)\n",
    "    LV=lvh[np.unique(data[\"id\"]).tolist().index(i)]\n",
    "    pls=PLSRegression(n_components=LV, scale=True)\n",
    "    pls.fit(Xtrain,Ytrain)\n",
    "    predPer=pd.DataFrame(pls.predict(Xtest))\n",
    "    predPer[\"Label\"]=Ytest\n",
    "    return predPer"
   ]
  },
  {
   "cell_type": "code",
   "execution_count": 9,
   "id": "0fcceecb",
   "metadata": {},
   "outputs": [
    {
     "data": {
      "image/png": "[encoded data removed]",
      "text/plain": [
       "<Figure size 640x480 with 1 Axes>"
      ]
     },
     "metadata": {},
     "output_type": "display_data"
    },
    {
     "name": "stdout",
     "output_type": "stream",
     "text": [
      "Confidence interval for the permutation test: [0.328 - 0.683]\n",
      "AUC R: 0.7486979166666667\n",
      "p-value: 0.017\n"
     ]
    }
   ],
   "source": [
    "permutR=[]\n",
    "for j in range(1000):\n",
    "    predPer = Parallel(n_jobs=multiprocessing.cpu_count())(delayed(permutation)(dataR, lvhR, i) for i in np.unique(dataR[\"id\"]))\n",
    "    pred=pd.DataFrame()\n",
    "    for k in range(len(predPer)):\n",
    "        pred=pd.concat([pred,predPer[k]])\n",
    "    permutR.append(metrics.roc_auc_score(pred[\"Label\"],pred[0]))\n",
    "sorted_permut = np.array(permutR)\n",
    "sorted_permut.sort()\n",
    "confidence_lower = sorted_permut[int(0.05 * len(sorted_permut))]\n",
    "confidence_upper = sorted_permut[int(0.95 * len(sorted_permut))]\n",
    "plt.hist(permutR, bins=30)\n",
    "plt.title('Histogram of H0')\n",
    "plt.axvline(x=confidence_upper, ymax=0.7, color='r',linestyle=\"--\")\n",
    "plt.axvline(x=metrics.roc_auc_score(predR['Label'],predR[0]), ymax=0.8, color=\"y\",linestyle=\"--\")\n",
    "plt.ylabel(\"Frecuency\")\n",
    "plt.xlabel(\"AUC's\")\n",
    "plt.text(0.6,68,\"Quantile 0.95\")\n",
    "plt.text(0.7,76,f\"AUC= {round(metrics.roc_auc_score(predR['Label'],predR[0]),2)}\")\n",
    "plt.show()\n",
    "print(\"Confidence interval for the permutation test: [{:0.3f} - {:0.3}]\".format(confidence_lower, confidence_upper))    \n",
    "print(f\"AUC R: {metrics.roc_auc_score(predR['Label'],predR[0])}\")\n",
    "print(f\"p-value: {len(np.where(np.array(permutR)>=metrics.roc_auc_score(predR['Label'],predR[0]))[0])/1000}\")"
   ]
  },
  {
   "cell_type": "code",
   "execution_count": null,
   "id": "289e71ce",
   "metadata": {},
   "outputs": [],
   "source": []
  }
 ],
 "metadata": {
  "kernelspec": {
   "display_name": "Python 3 (ipykernel)",
   "language": "python",
   "name": "python3"
  },
  "language_info": {
   "codemirror_mode": {
    "name": "ipython",
    "version": 3
   },
   "file_extension": ".py",
   "mimetype": "text/x-python",
   "name": "python",
   "nbconvert_exporter": "python",
   "pygments_lexer": "ipython3",
   "version": "3.9.13"
  }
 },
 "nbformat": 4,
 "nbformat_minor": 5
}
